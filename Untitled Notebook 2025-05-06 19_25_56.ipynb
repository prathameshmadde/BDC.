{
 "cells": [
  {
   "cell_type": "code",
   "execution_count": 0,
   "metadata": {
    "application/vnd.databricks.v1+cell": {
     "cellMetadata": {
      "byteLimit": 2048000,
      "rowLimit": 10000
     },
     "inputWidgets": {},
     "nuid": "cfadff68-81bc-4712-9ca0-9a234d8ef6a0",
     "showTitle": false,
     "tableResultSettingsMap": {},
     "title": ""
    }
   },
   "outputs": [],
   "source": [
    "from pyspark.sql import SparkSession\n",
    "from pyspark.sql.functions import col\n"
   ]
  },
  {
   "cell_type": "code",
   "execution_count": 0,
   "metadata": {
    "application/vnd.databricks.v1+cell": {
     "cellMetadata": {
      "byteLimit": 2048000,
      "rowLimit": 10000
     },
     "inputWidgets": {},
     "nuid": "326bedf1-99d7-4eea-9b60-a528cd74d3f0",
     "showTitle": false,
     "tableResultSettingsMap": {},
     "title": ""
    }
   },
   "outputs": [],
   "source": [
    "spark = SparkSession.builder.appName(\"DataFrameExperiment\").getOrCreate()"
   ]
  },
  {
   "cell_type": "code",
   "execution_count": 0,
   "metadata": {
    "application/vnd.databricks.v1+cell": {
     "cellMetadata": {
      "byteLimit": 2048000,
      "rowLimit": 10000
     },
     "inputWidgets": {},
     "nuid": "613a9f40-f738-4934-ae0a-7b5ed1cf3584",
     "showTitle": false,
     "tableResultSettingsMap": {},
     "title": ""
    }
   },
   "outputs": [
    {
     "output_type": "stream",
     "name": "stdout",
     "output_type": "stream",
     "text": [
      "+-------+---+----------+\n|   Name|Age|Department|\n+-------+---+----------+\n|  Alice| 25|        HR|\n|    Bob| 30|        IT|\n|Charlie| 28|   Finance|\n+-------+---+----------+\n\n"
     ]
    }
   ],
   "source": [
    "data = [\n",
    "    (\"Alice\", 25, \"HR\"),\n",
    "    (\"Bob\", 30, \"IT\"),\n",
    "    (\"Charlie\", 28, \"Finance\")\n",
    "]\n",
    "\n",
    "columns = [\"Name\", \"Age\", \"Department\"]\n",
    "\n",
    "df = spark.createDataFrame(data, schema=columns)\n",
    "df.show()\n"
   ]
  },
  {
   "cell_type": "code",
   "execution_count": 0,
   "metadata": {
    "application/vnd.databricks.v1+cell": {
     "cellMetadata": {
      "byteLimit": 2048000,
      "rowLimit": 10000
     },
     "inputWidgets": {},
     "nuid": "cf3d21c0-f23b-4b07-88da-bf12f4031e72",
     "showTitle": false,
     "tableResultSettingsMap": {},
     "title": ""
    }
   },
   "outputs": [
    {
     "output_type": "stream",
     "name": "stdout",
     "output_type": "stream",
     "text": [
      "+-------+---+\n|   Name|Age|\n+-------+---+\n|  Alice| 25|\n|    Bob| 30|\n|Charlie| 28|\n+-------+---+\n\n"
     ]
    }
   ],
   "source": [
    "selected_df = df.select(\"Name\", \"Age\")\n",
    "selected_df.show()\n"
   ]
  },
  {
   "cell_type": "code",
   "execution_count": 0,
   "metadata": {
    "application/vnd.databricks.v1+cell": {
     "cellMetadata": {
      "byteLimit": 2048000,
      "rowLimit": 10000
     },
     "inputWidgets": {},
     "nuid": "46e28b27-4bff-4750-920e-2eded57d23e7",
     "showTitle": false,
     "tableResultSettingsMap": {},
     "title": ""
    }
   },
   "outputs": [
    {
     "output_type": "stream",
     "name": "stdout",
     "output_type": "stream",
     "text": [
      "+-------+---+----------+-----------------+\n|   Name|Age|Department|Age_After_5_Years|\n+-------+---+----------+-----------------+\n|  Alice| 25|        HR|               30|\n|    Bob| 30|        IT|               35|\n|Charlie| 28|   Finance|               33|\n+-------+---+----------+-----------------+\n\n"
     ]
    }
   ],
   "source": [
    "df_with_new_column = df.withColumn(\"Age_After_5_Years\", col(\"Age\") + 5)\n",
    "df_with_new_column.show()\n"
   ]
  }
 ],
 "metadata": {
  "application/vnd.databricks.v1+notebook": {
   "computePreferences": null,
   "dashboards": [],
   "environmentMetadata": {
    "base_environment": "",
    "environment_version": "1"
   },
   "inputWidgetPreferences": null,
   "language": "python",
   "notebookMetadata": {
    "pythonIndentUnit": 4
   },
   "notebookName": "Untitled Notebook 2025-05-06 19:25:56",
   "widgets": {}
  }
 },
 "nbformat": 4,
 "nbformat_minor": 0
}